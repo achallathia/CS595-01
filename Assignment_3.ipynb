{
 "cells": [
  {
   "cell_type": "markdown",
   "metadata": {},
   "source": [
    "# Assignment_3\n",
    "## New York City Taxi Trip Duration [https://www.kaggle.com/c/nyc-taxi-trip-duration]\n",
    "## Description: This dataset has various attributes like pickup_datetime, dropoff_datetime, passenger_count etc. Based on individual trip attributes, the task is to predict the duration of a new trip. "
   ]
  },
  {
   "cell_type": "code",
   "execution_count": 31,
   "metadata": {
    "collapsed": true
   },
   "outputs": [],
   "source": [
    "import pandas as pd\n",
    "from pandas import *\n",
    "import numpy as np\n",
    "from sklearn import preprocessing"
   ]
  },
  {
   "cell_type": "code",
   "execution_count": 32,
   "metadata": {
    "collapsed": false
   },
   "outputs": [],
   "source": [
    "taxi = pd.read_csv(\"train 4.csv\")"
   ]
  },
  {
   "cell_type": "code",
   "execution_count": 33,
   "metadata": {
    "collapsed": false
   },
   "outputs": [
    {
     "data": {
      "text/html": [
       "<div>\n",
       "<table border=\"1\" class=\"dataframe\">\n",
       "  <thead>\n",
       "    <tr style=\"text-align: right;\">\n",
       "      <th></th>\n",
       "      <th>id</th>\n",
       "      <th>vendor_id</th>\n",
       "      <th>pickup_datetime</th>\n",
       "      <th>dropoff_datetime</th>\n",
       "      <th>passenger_count</th>\n",
       "      <th>pickup_longitude</th>\n",
       "      <th>pickup_latitude</th>\n",
       "      <th>dropoff_longitude</th>\n",
       "      <th>dropoff_latitude</th>\n",
       "      <th>store_and_fwd_flag</th>\n",
       "      <th>trip_duration</th>\n",
       "    </tr>\n",
       "  </thead>\n",
       "  <tbody>\n",
       "    <tr>\n",
       "      <th>0</th>\n",
       "      <td>id2875421</td>\n",
       "      <td>2</td>\n",
       "      <td>2016-03-14 17:24:55</td>\n",
       "      <td>2016-03-14 17:32:30</td>\n",
       "      <td>1</td>\n",
       "      <td>-73.982155</td>\n",
       "      <td>40.767937</td>\n",
       "      <td>-73.964630</td>\n",
       "      <td>40.765602</td>\n",
       "      <td>N</td>\n",
       "      <td>455</td>\n",
       "    </tr>\n",
       "    <tr>\n",
       "      <th>1</th>\n",
       "      <td>id2377394</td>\n",
       "      <td>1</td>\n",
       "      <td>2016-06-12 00:43:35</td>\n",
       "      <td>2016-06-12 00:54:38</td>\n",
       "      <td>1</td>\n",
       "      <td>-73.980415</td>\n",
       "      <td>40.738564</td>\n",
       "      <td>-73.999481</td>\n",
       "      <td>40.731152</td>\n",
       "      <td>N</td>\n",
       "      <td>663</td>\n",
       "    </tr>\n",
       "    <tr>\n",
       "      <th>2</th>\n",
       "      <td>id3858529</td>\n",
       "      <td>2</td>\n",
       "      <td>2016-01-19 11:35:24</td>\n",
       "      <td>2016-01-19 12:10:48</td>\n",
       "      <td>1</td>\n",
       "      <td>-73.979027</td>\n",
       "      <td>40.763939</td>\n",
       "      <td>-74.005333</td>\n",
       "      <td>40.710087</td>\n",
       "      <td>N</td>\n",
       "      <td>2124</td>\n",
       "    </tr>\n",
       "    <tr>\n",
       "      <th>3</th>\n",
       "      <td>id3504673</td>\n",
       "      <td>2</td>\n",
       "      <td>2016-04-06 19:32:31</td>\n",
       "      <td>2016-04-06 19:39:40</td>\n",
       "      <td>1</td>\n",
       "      <td>-74.010040</td>\n",
       "      <td>40.719971</td>\n",
       "      <td>-74.012268</td>\n",
       "      <td>40.706718</td>\n",
       "      <td>N</td>\n",
       "      <td>429</td>\n",
       "    </tr>\n",
       "    <tr>\n",
       "      <th>4</th>\n",
       "      <td>id2181028</td>\n",
       "      <td>2</td>\n",
       "      <td>2016-03-26 13:30:55</td>\n",
       "      <td>2016-03-26 13:38:10</td>\n",
       "      <td>1</td>\n",
       "      <td>-73.973053</td>\n",
       "      <td>40.793209</td>\n",
       "      <td>-73.972923</td>\n",
       "      <td>40.782520</td>\n",
       "      <td>N</td>\n",
       "      <td>435</td>\n",
       "    </tr>\n",
       "  </tbody>\n",
       "</table>\n",
       "</div>"
      ],
      "text/plain": [
       "          id  vendor_id      pickup_datetime     dropoff_datetime  \\\n",
       "0  id2875421          2  2016-03-14 17:24:55  2016-03-14 17:32:30   \n",
       "1  id2377394          1  2016-06-12 00:43:35  2016-06-12 00:54:38   \n",
       "2  id3858529          2  2016-01-19 11:35:24  2016-01-19 12:10:48   \n",
       "3  id3504673          2  2016-04-06 19:32:31  2016-04-06 19:39:40   \n",
       "4  id2181028          2  2016-03-26 13:30:55  2016-03-26 13:38:10   \n",
       "\n",
       "   passenger_count  pickup_longitude  pickup_latitude  dropoff_longitude  \\\n",
       "0                1        -73.982155        40.767937         -73.964630   \n",
       "1                1        -73.980415        40.738564         -73.999481   \n",
       "2                1        -73.979027        40.763939         -74.005333   \n",
       "3                1        -74.010040        40.719971         -74.012268   \n",
       "4                1        -73.973053        40.793209         -73.972923   \n",
       "\n",
       "   dropoff_latitude store_and_fwd_flag  trip_duration  \n",
       "0         40.765602                  N            455  \n",
       "1         40.731152                  N            663  \n",
       "2         40.710087                  N           2124  \n",
       "3         40.706718                  N            429  \n",
       "4         40.782520                  N            435  "
      ]
     },
     "execution_count": 33,
     "metadata": {},
     "output_type": "execute_result"
    }
   ],
   "source": [
    "taxi.head()"
   ]
  },
  {
   "cell_type": "code",
   "execution_count": 34,
   "metadata": {
    "collapsed": false
   },
   "outputs": [
    {
     "name": "stdout",
     "output_type": "stream",
     "text": [
      "<class 'pandas.core.frame.DataFrame'>\n",
      "RangeIndex: 1458644 entries, 0 to 1458643\n",
      "Data columns (total 11 columns):\n",
      "id                    1458644 non-null object\n",
      "vendor_id             1458644 non-null int64\n",
      "pickup_datetime       1458644 non-null object\n",
      "dropoff_datetime      1458644 non-null object\n",
      "passenger_count       1458644 non-null int64\n",
      "pickup_longitude      1458644 non-null float64\n",
      "pickup_latitude       1458644 non-null float64\n",
      "dropoff_longitude     1458644 non-null float64\n",
      "dropoff_latitude      1458644 non-null float64\n",
      "store_and_fwd_flag    1458644 non-null object\n",
      "trip_duration         1458644 non-null int64\n",
      "dtypes: float64(4), int64(3), object(4)\n",
      "memory usage: 122.4+ MB\n"
     ]
    }
   ],
   "source": [
    "taxi.info()"
   ]
  },
  {
   "cell_type": "code",
   "execution_count": 35,
   "metadata": {
    "collapsed": true
   },
   "outputs": [],
   "source": [
    "del taxi['id']\n",
    "del taxi['pickup_datetime']\n",
    "del taxi['dropoff_datetime']"
   ]
  },
  {
   "cell_type": "code",
   "execution_count": 36,
   "metadata": {
    "collapsed": true
   },
   "outputs": [],
   "source": [
    "taxi = pd.get_dummies(taxi)"
   ]
  },
  {
   "cell_type": "code",
   "execution_count": 37,
   "metadata": {
    "collapsed": false
   },
   "outputs": [],
   "source": [
    "from sklearn.tree import DecisionTreeRegressor\n",
    "from sklearn.model_selection import train_test_split"
   ]
  },
  {
   "cell_type": "code",
   "execution_count": 38,
   "metadata": {
    "collapsed": false
   },
   "outputs": [],
   "source": [
    "X_train,X_test,Y_train,Y_test = train_test_split(taxi.drop('trip_duration',axis=1),taxi['trip_duration'],train_size=0.67)"
   ]
  },
  {
   "cell_type": "markdown",
   "metadata": {},
   "source": [
    "## Depth_1"
   ]
  },
  {
   "cell_type": "code",
   "execution_count": 39,
   "metadata": {
    "collapsed": false
   },
   "outputs": [],
   "source": [
    "model = DecisionTreeRegressor(max_depth=1)\n",
    "model.fit(X_train,Y_train)\n",
    "pred_tr = model.predict(X_train)\n",
    "pred_te = model.predict(X_test)"
   ]
  },
  {
   "cell_type": "code",
   "execution_count": 40,
   "metadata": {
    "collapsed": false
   },
   "outputs": [],
   "source": [
    "from sklearn.metrics import mean_squared_error\n",
    "from sklearn.metrics import mean_absolute_error\n",
    "from sklearn.metrics import r2_score\n",
    "from sklearn.metrics import explained_variance_score"
   ]
  },
  {
   "cell_type": "code",
   "execution_count": 41,
   "metadata": {
    "collapsed": false
   },
   "outputs": [
    {
     "data": {
      "image/svg+xml": [
       "<svg height=\"158pt\" viewBox=\"0.00 0.00 307.95 158.00\" width=\"308pt\" xmlns=\"http://www.w3.org/2000/svg\" xmlns:xlink=\"http://www.w3.org/1999/xlink\">\n",
       "<g class=\"graph\" id=\"graph0\" transform=\"scale(1 1) rotate(0) translate(4 154)\">\n",
       "<title>Tree</title>\n",
       "<polygon fill=\"white\" points=\"-4,4 -4,-154 303.947,-154 303.947,4 -4,4\" stroke=\"none\"/>\n",
       "<!-- 0 -->\n",
       "<g class=\"node\" id=\"node1\"><title>0</title>\n",
       "<polygon fill=\"none\" points=\"242.913,-150 56.0342,-150 56.0342,-86 242.913,-86 242.913,-150\" stroke=\"black\"/>\n",
       "<text font-family=\"Times,serif\" font-size=\"14.00\" text-anchor=\"middle\" x=\"149.474\" y=\"-134.8\">pickup_longitude &lt;= -73.8857</text>\n",
       "<text font-family=\"Times,serif\" font-size=\"14.00\" text-anchor=\"middle\" x=\"149.474\" y=\"-120.8\">mse = 35906368.4302</text>\n",
       "<text font-family=\"Times,serif\" font-size=\"14.00\" text-anchor=\"middle\" x=\"149.474\" y=\"-106.8\">samples = 977291</text>\n",
       "<text font-family=\"Times,serif\" font-size=\"14.00\" text-anchor=\"middle\" x=\"149.474\" y=\"-92.8\">value = 962.5245</text>\n",
       "</g>\n",
       "<!-- 1 -->\n",
       "<g class=\"node\" id=\"node2\"><title>1</title>\n",
       "<polygon fill=\"none\" points=\"140.921,-50 0.0263573,-50 0.0263573,-0 140.921,-0 140.921,-50\" stroke=\"black\"/>\n",
       "<text font-family=\"Times,serif\" font-size=\"14.00\" text-anchor=\"middle\" x=\"70.4736\" y=\"-34.8\">mse = 19659307.8796</text>\n",
       "<text font-family=\"Times,serif\" font-size=\"14.00\" text-anchor=\"middle\" x=\"70.4736\" y=\"-20.8\">samples = 928731</text>\n",
       "<text font-family=\"Times,serif\" font-size=\"14.00\" text-anchor=\"middle\" x=\"70.4736\" y=\"-6.8\">value = 891.8121</text>\n",
       "</g>\n",
       "<!-- 0&#45;&gt;1 -->\n",
       "<g class=\"edge\" id=\"edge1\"><title>0-&gt;1</title>\n",
       "<path d=\"M122.507,-85.9375C114.625,-76.8578 106,-66.9225 98.0785,-57.798\" fill=\"none\" stroke=\"black\"/>\n",
       "<polygon fill=\"black\" points=\"100.534,-55.287 91.3349,-50.0301 95.2476,-59.876 100.534,-55.287\" stroke=\"black\"/>\n",
       "<text font-family=\"Times,serif\" font-size=\"14.00\" text-anchor=\"middle\" x=\"89.5746\" y=\"-70.768\">True</text>\n",
       "</g>\n",
       "<!-- 2 -->\n",
       "<g class=\"node\" id=\"node3\"><title>2</title>\n",
       "<polygon fill=\"none\" points=\"299.921,-50 159.026,-50 159.026,-0 299.921,-0 299.921,-50\" stroke=\"black\"/>\n",
       "<text font-family=\"Times,serif\" font-size=\"14.00\" text-anchor=\"middle\" x=\"229.474\" y=\"-34.8\">mse = 344713800.451</text>\n",
       "<text font-family=\"Times,serif\" font-size=\"14.00\" text-anchor=\"middle\" x=\"229.474\" y=\"-20.8\">samples = 48560</text>\n",
       "<text font-family=\"Times,serif\" font-size=\"14.00\" text-anchor=\"middle\" x=\"229.474\" y=\"-6.8\">value = 2314.9281</text>\n",
       "</g>\n",
       "<!-- 0&#45;&gt;2 -->\n",
       "<g class=\"edge\" id=\"edge2\"><title>0-&gt;2</title>\n",
       "<path d=\"M176.781,-85.9375C184.763,-76.8578 193.498,-66.9225 201.519,-57.798\" fill=\"none\" stroke=\"black\"/>\n",
       "<polygon fill=\"black\" points=\"204.374,-59.8514 208.348,-50.0301 199.117,-55.2296 204.374,-59.8514\" stroke=\"black\"/>\n",
       "<text font-family=\"Times,serif\" font-size=\"14.00\" text-anchor=\"middle\" x=\"209.953\" y=\"-70.7785\">False</text>\n",
       "</g>\n",
       "</g>\n",
       "</svg>"
      ],
      "text/plain": [
       "<IPython.core.display.SVG object>"
      ]
     },
     "execution_count": 41,
     "metadata": {},
     "output_type": "execute_result"
    }
   ],
   "source": [
    "from graphviz import Source\n",
    "from sklearn import tree\n",
    "from IPython.display import SVG\n",
    "graph = Source( tree.export_graphviz(model, out_file=None, feature_names=X_train.columns))\n",
    "SVG(graph.pipe(format='svg'))"
   ]
  },
  {
   "cell_type": "markdown",
   "metadata": {},
   "source": [
    "## Evaluation measures for the Train Data"
   ]
  },
  {
   "cell_type": "code",
   "execution_count": 42,
   "metadata": {
    "collapsed": false,
    "scrolled": true
   },
   "outputs": [
    {
     "name": "stdout",
     "output_type": "stream",
     "text": [
      "Mean absolute error: 589.349293\n",
      "Mean squared error: 35810736.839101\n"
     ]
    }
   ],
   "source": [
    "MAE = mean_absolute_error(Y_train,pred_tr)\n",
    "MSE = mean_squared_error(Y_train,pred_tr)\n",
    "print (\"Mean absolute error: %f\"%MAE)\n",
    "print (\"Mean squared error: %f\"%MSE)"
   ]
  },
  {
   "cell_type": "markdown",
   "metadata": {},
   "source": [
    "## Evaluation measures for the Test Data"
   ]
  },
  {
   "cell_type": "code",
   "execution_count": 43,
   "metadata": {
    "collapsed": false
   },
   "outputs": [
    {
     "name": "stdout",
     "output_type": "stream",
     "text": [
      "Mean absolute error: 580.758105\n",
      "Mean squared error: 10147690.606868\n"
     ]
    }
   ],
   "source": [
    "MAE = mean_absolute_error(Y_test,pred_te)\n",
    "MSE = mean_squared_error(Y_test,pred_te)\n",
    "print (\"Mean absolute error: %f\"%MAE)\n",
    "print (\"Mean squared error: %f\"%MSE)"
   ]
  },
  {
   "cell_type": "markdown",
   "metadata": {},
   "source": [
    "## Depth_2"
   ]
  },
  {
   "cell_type": "code",
   "execution_count": 44,
   "metadata": {
    "collapsed": true
   },
   "outputs": [],
   "source": [
    "model = DecisionTreeRegressor(max_depth=2)\n",
    "model.fit(X_train,Y_train)\n",
    "pred_tr = model.predict(X_train)\n",
    "pred_te = model.predict(X_test)"
   ]
  },
  {
   "cell_type": "code",
   "execution_count": 45,
   "metadata": {
    "collapsed": false
   },
   "outputs": [
    {
     "data": {
      "image/svg+xml": [
       "<svg height=\"258pt\" viewBox=\"0.00 0.00 632.45 258.00\" width=\"632pt\" xmlns=\"http://www.w3.org/2000/svg\" xmlns:xlink=\"http://www.w3.org/1999/xlink\">\n",
       "<g class=\"graph\" id=\"graph0\" transform=\"scale(1 1) rotate(0) translate(4 254)\">\n",
       "<title>Tree</title>\n",
       "<polygon fill=\"white\" points=\"-4,4 -4,-254 628.447,-254 628.447,4 -4,4\" stroke=\"none\"/>\n",
       "<!-- 0 -->\n",
       "<g class=\"node\" id=\"node1\"><title>0</title>\n",
       "<polygon fill=\"none\" points=\"407.913,-250 221.034,-250 221.034,-186 407.913,-186 407.913,-250\" stroke=\"black\"/>\n",
       "<text font-family=\"Times,serif\" font-size=\"14.00\" text-anchor=\"middle\" x=\"314.474\" y=\"-234.8\">pickup_longitude &lt;= -73.8857</text>\n",
       "<text font-family=\"Times,serif\" font-size=\"14.00\" text-anchor=\"middle\" x=\"314.474\" y=\"-220.8\">mse = 35906368.4302</text>\n",
       "<text font-family=\"Times,serif\" font-size=\"14.00\" text-anchor=\"middle\" x=\"314.474\" y=\"-206.8\">samples = 977291</text>\n",
       "<text font-family=\"Times,serif\" font-size=\"14.00\" text-anchor=\"middle\" x=\"314.474\" y=\"-192.8\">value = 962.5245</text>\n",
       "</g>\n",
       "<!-- 1 -->\n",
       "<g class=\"node\" id=\"node2\"><title>1</title>\n",
       "<polygon fill=\"none\" points=\"305.55,-150 115.397,-150 115.397,-86 305.55,-86 305.55,-150\" stroke=\"black\"/>\n",
       "<text font-family=\"Times,serif\" font-size=\"14.00\" text-anchor=\"middle\" x=\"210.474\" y=\"-134.8\">dropoff_longitude &lt;= -73.9098</text>\n",
       "<text font-family=\"Times,serif\" font-size=\"14.00\" text-anchor=\"middle\" x=\"210.474\" y=\"-120.8\">mse = 19659307.8796</text>\n",
       "<text font-family=\"Times,serif\" font-size=\"14.00\" text-anchor=\"middle\" x=\"210.474\" y=\"-106.8\">samples = 928731</text>\n",
       "<text font-family=\"Times,serif\" font-size=\"14.00\" text-anchor=\"middle\" x=\"210.474\" y=\"-92.8\">value = 891.8121</text>\n",
       "</g>\n",
       "<!-- 0&#45;&gt;1 -->\n",
       "<g class=\"edge\" id=\"edge1\"><title>0-&gt;1</title>\n",
       "<path d=\"M281.567,-185.992C271.799,-176.787 260.986,-166.598 250.803,-157.002\" fill=\"none\" stroke=\"black\"/>\n",
       "<polygon fill=\"black\" points=\"253.201,-154.453 243.523,-150.142 248.4,-159.548 253.201,-154.453\" stroke=\"black\"/>\n",
       "<text font-family=\"Times,serif\" font-size=\"14.00\" text-anchor=\"middle\" x=\"244.265\" y=\"-170.931\">True</text>\n",
       "</g>\n",
       "<!-- 4 -->\n",
       "<g class=\"node\" id=\"node5\"><title>4</title>\n",
       "<polygon fill=\"none\" points=\"514.55,-150 324.397,-150 324.397,-86 514.55,-86 514.55,-150\" stroke=\"black\"/>\n",
       "<text font-family=\"Times,serif\" font-size=\"14.00\" text-anchor=\"middle\" x=\"419.474\" y=\"-134.8\">dropoff_longitude &lt;= -73.9564</text>\n",
       "<text font-family=\"Times,serif\" font-size=\"14.00\" text-anchor=\"middle\" x=\"419.474\" y=\"-120.8\">mse = 344713800.451</text>\n",
       "<text font-family=\"Times,serif\" font-size=\"14.00\" text-anchor=\"middle\" x=\"419.474\" y=\"-106.8\">samples = 48560</text>\n",
       "<text font-family=\"Times,serif\" font-size=\"14.00\" text-anchor=\"middle\" x=\"419.474\" y=\"-92.8\">value = 2314.9281</text>\n",
       "</g>\n",
       "<!-- 0&#45;&gt;4 -->\n",
       "<g class=\"edge\" id=\"edge4\"><title>0-&gt;4</title>\n",
       "<path d=\"M347.696,-185.992C357.559,-176.787 368.476,-166.598 378.757,-157.002\" fill=\"none\" stroke=\"black\"/>\n",
       "<polygon fill=\"black\" points=\"381.184,-159.524 386.107,-150.142 376.408,-154.407 381.184,-159.524\" stroke=\"black\"/>\n",
       "<text font-family=\"Times,serif\" font-size=\"14.00\" text-anchor=\"middle\" x=\"385.245\" y=\"-170.928\">False</text>\n",
       "</g>\n",
       "<!-- 2 -->\n",
       "<g class=\"node\" id=\"node3\"><title>2</title>\n",
       "<polygon fill=\"none\" points=\"140.921,-50 0.0263573,-50 0.0263573,-0 140.921,-0 140.921,-50\" stroke=\"black\"/>\n",
       "<text font-family=\"Times,serif\" font-size=\"14.00\" text-anchor=\"middle\" x=\"70.4736\" y=\"-34.8\">mse = 19768679.9573</text>\n",
       "<text font-family=\"Times,serif\" font-size=\"14.00\" text-anchor=\"middle\" x=\"70.4736\" y=\"-20.8\">samples = 896955</text>\n",
       "<text font-family=\"Times,serif\" font-size=\"14.00\" text-anchor=\"middle\" x=\"70.4736\" y=\"-6.8\">value = 849.4803</text>\n",
       "</g>\n",
       "<!-- 1&#45;&gt;2 -->\n",
       "<g class=\"edge\" id=\"edge2\"><title>1-&gt;2</title>\n",
       "<path d=\"M162.685,-85.9375C147.588,-76.1241 130.952,-65.3112 116.016,-55.6027\" fill=\"none\" stroke=\"black\"/>\n",
       "<polygon fill=\"black\" points=\"117.735,-52.5454 107.443,-50.0301 113.92,-58.4146 117.735,-52.5454\" stroke=\"black\"/>\n",
       "</g>\n",
       "<!-- 3 -->\n",
       "<g class=\"node\" id=\"node4\"><title>3</title>\n",
       "<polygon fill=\"none\" points=\"292.421,-50 158.526,-50 158.526,-0 292.421,-0 292.421,-50\" stroke=\"black\"/>\n",
       "<text font-family=\"Times,serif\" font-size=\"14.00\" text-anchor=\"middle\" x=\"225.474\" y=\"-34.8\">mse = 15093601.817</text>\n",
       "<text font-family=\"Times,serif\" font-size=\"14.00\" text-anchor=\"middle\" x=\"225.474\" y=\"-20.8\">samples = 31776</text>\n",
       "<text font-family=\"Times,serif\" font-size=\"14.00\" text-anchor=\"middle\" x=\"225.474\" y=\"-6.8\">value = 2086.7304</text>\n",
       "</g>\n",
       "<!-- 1&#45;&gt;3 -->\n",
       "<g class=\"edge\" id=\"edge3\"><title>1-&gt;3</title>\n",
       "<path d=\"M215.594,-85.9375C216.97,-77.5916 218.464,-68.5226 219.865,-60.025\" fill=\"none\" stroke=\"black\"/>\n",
       "<polygon fill=\"black\" points=\"223.34,-60.4662 221.513,-50.0301 216.433,-59.3277 223.34,-60.4662\" stroke=\"black\"/>\n",
       "</g>\n",
       "<!-- 5 -->\n",
       "<g class=\"node\" id=\"node6\"><title>5</title>\n",
       "<polygon fill=\"none\" points=\"472.421,-50 338.526,-50 338.526,-0 472.421,-0 472.421,-50\" stroke=\"black\"/>\n",
       "<text font-family=\"Times,serif\" font-size=\"14.00\" text-anchor=\"middle\" x=\"405.474\" y=\"-34.8\">mse = 528492206.41</text>\n",
       "<text font-family=\"Times,serif\" font-size=\"14.00\" text-anchor=\"middle\" x=\"405.474\" y=\"-20.8\">samples = 31399</text>\n",
       "<text font-family=\"Times,serif\" font-size=\"14.00\" text-anchor=\"middle\" x=\"405.474\" y=\"-6.8\">value = 2750.4604</text>\n",
       "</g>\n",
       "<!-- 4&#45;&gt;5 -->\n",
       "<g class=\"edge\" id=\"edge5\"><title>4-&gt;5</title>\n",
       "<path d=\"M414.695,-85.9375C413.411,-77.5916 412.016,-68.5226 410.708,-60.025\" fill=\"none\" stroke=\"black\"/>\n",
       "<polygon fill=\"black\" points=\"414.151,-59.3816 409.171,-50.0301 407.232,-60.446 414.151,-59.3816\" stroke=\"black\"/>\n",
       "</g>\n",
       "<!-- 6 -->\n",
       "<g class=\"node\" id=\"node7\"><title>6</title>\n",
       "<polygon fill=\"none\" points=\"624.421,-50 490.526,-50 490.526,-0 624.421,-0 624.421,-50\" stroke=\"black\"/>\n",
       "<text font-family=\"Times,serif\" font-size=\"14.00\" text-anchor=\"middle\" x=\"557.474\" y=\"-34.8\">mse = 7477522.3009</text>\n",
       "<text font-family=\"Times,serif\" font-size=\"14.00\" text-anchor=\"middle\" x=\"557.474\" y=\"-20.8\">samples = 17161</text>\n",
       "<text font-family=\"Times,serif\" font-size=\"14.00\" text-anchor=\"middle\" x=\"557.474\" y=\"-6.8\">value = 1518.0468</text>\n",
       "</g>\n",
       "<!-- 4&#45;&gt;6 -->\n",
       "<g class=\"edge\" id=\"edge6\"><title>4-&gt;6</title>\n",
       "<path d=\"M466.579,-85.9375C481.461,-76.1241 497.859,-65.3112 512.582,-55.6027\" fill=\"none\" stroke=\"black\"/>\n",
       "<polygon fill=\"black\" points=\"514.611,-58.4571 521.032,-50.0301 510.757,-52.6133 514.611,-58.4571\" stroke=\"black\"/>\n",
       "</g>\n",
       "</g>\n",
       "</svg>"
      ],
      "text/plain": [
       "<IPython.core.display.SVG object>"
      ]
     },
     "execution_count": 45,
     "metadata": {},
     "output_type": "execute_result"
    }
   ],
   "source": [
    "from graphviz import Source\n",
    "from sklearn import tree\n",
    "from IPython.display import SVG\n",
    "graph = Source( tree.export_graphviz(model, out_file=None, feature_names=X_train.columns))\n",
    "SVG(graph.pipe(format='svg'))"
   ]
  },
  {
   "cell_type": "markdown",
   "metadata": {},
   "source": [
    "## Evaluation measures for the Train Data"
   ]
  },
  {
   "cell_type": "code",
   "execution_count": 46,
   "metadata": {
    "collapsed": false
   },
   "outputs": [
    {
     "name": "stdout",
     "output_type": "stream",
     "text": [
      "Mean absolute error: 560.786145\n",
      "Mean squared error: 35745421.959020\n"
     ]
    }
   ],
   "source": [
    "MAE = mean_absolute_error(Y_train,pred_tr)\n",
    "MSE = mean_squared_error(Y_train,pred_tr)\n",
    "print (\"Mean absolute error: %f\"%MAE)\n",
    "print (\"Mean squared error: %f\"%MSE)"
   ]
  },
  {
   "cell_type": "markdown",
   "metadata": {},
   "source": [
    "## Evaluation measures for the Test Data"
   ]
  },
  {
   "cell_type": "code",
   "execution_count": 47,
   "metadata": {
    "collapsed": false
   },
   "outputs": [
    {
     "name": "stdout",
     "output_type": "stream",
     "text": [
      "Mean absolute error: 552.311399\n",
      "Mean squared error: 10087474.844184\n"
     ]
    }
   ],
   "source": [
    "MAE = mean_absolute_error(Y_test,pred_te)\n",
    "MSE = mean_squared_error(Y_test,pred_te)\n",
    "print (\"Mean absolute error: %f\"%MAE)\n",
    "print (\"Mean squared error: %f\"%MSE)"
   ]
  },
  {
   "cell_type": "markdown",
   "metadata": {},
   "source": [
    "## Depth_3"
   ]
  },
  {
   "cell_type": "code",
   "execution_count": 48,
   "metadata": {
    "collapsed": true
   },
   "outputs": [],
   "source": [
    "model = DecisionTreeRegressor(max_depth=3)\n",
    "model.fit(X_train,Y_train)\n",
    "pred_tr = model.predict(X_train)\n",
    "pred_te = model.predict(X_test)"
   ]
  },
  {
   "cell_type": "code",
   "execution_count": 49,
   "metadata": {
    "collapsed": false
   },
   "outputs": [
    {
     "data": {
      "image/svg+xml": [
       "<svg height=\"358pt\" viewBox=\"0.00 0.00 1247.45 358.00\" width=\"1247pt\" xmlns=\"http://www.w3.org/2000/svg\" xmlns:xlink=\"http://www.w3.org/1999/xlink\">\n",
       "<g class=\"graph\" id=\"graph0\" transform=\"scale(1 1) rotate(0) translate(4 354)\">\n",
       "<title>Tree</title>\n",
       "<polygon fill=\"white\" points=\"-4,4 -4,-354 1243.45,-354 1243.45,4 -4,4\" stroke=\"none\"/>\n",
       "<!-- 0 -->\n",
       "<g class=\"node\" id=\"node1\"><title>0</title>\n",
       "<polygon fill=\"none\" points=\"719.913,-350 533.034,-350 533.034,-286 719.913,-286 719.913,-350\" stroke=\"black\"/>\n",
       "<text font-family=\"Times,serif\" font-size=\"14.00\" text-anchor=\"middle\" x=\"626.474\" y=\"-334.8\">pickup_longitude &lt;= -73.8857</text>\n",
       "<text font-family=\"Times,serif\" font-size=\"14.00\" text-anchor=\"middle\" x=\"626.474\" y=\"-320.8\">mse = 35906368.4302</text>\n",
       "<text font-family=\"Times,serif\" font-size=\"14.00\" text-anchor=\"middle\" x=\"626.474\" y=\"-306.8\">samples = 977291</text>\n",
       "<text font-family=\"Times,serif\" font-size=\"14.00\" text-anchor=\"middle\" x=\"626.474\" y=\"-292.8\">value = 962.5245</text>\n",
       "</g>\n",
       "<!-- 1 -->\n",
       "<g class=\"node\" id=\"node2\"><title>1</title>\n",
       "<polygon fill=\"none\" points=\"600.55,-250 410.397,-250 410.397,-186 600.55,-186 600.55,-250\" stroke=\"black\"/>\n",
       "<text font-family=\"Times,serif\" font-size=\"14.00\" text-anchor=\"middle\" x=\"505.474\" y=\"-234.8\">dropoff_longitude &lt;= -73.9098</text>\n",
       "<text font-family=\"Times,serif\" font-size=\"14.00\" text-anchor=\"middle\" x=\"505.474\" y=\"-220.8\">mse = 19659307.8796</text>\n",
       "<text font-family=\"Times,serif\" font-size=\"14.00\" text-anchor=\"middle\" x=\"505.474\" y=\"-206.8\">samples = 928731</text>\n",
       "<text font-family=\"Times,serif\" font-size=\"14.00\" text-anchor=\"middle\" x=\"505.474\" y=\"-192.8\">value = 891.8121</text>\n",
       "</g>\n",
       "<!-- 0&#45;&gt;1 -->\n",
       "<g class=\"edge\" id=\"edge1\"><title>0-&gt;1</title>\n",
       "<path d=\"M588.188,-285.992C576.602,-276.608 563.753,-266.202 551.705,-256.444\" fill=\"none\" stroke=\"black\"/>\n",
       "<polygon fill=\"black\" points=\"553.899,-253.716 543.925,-250.142 549.493,-259.156 553.899,-253.716\" stroke=\"black\"/>\n",
       "<text font-family=\"Times,serif\" font-size=\"14.00\" text-anchor=\"middle\" x=\"546.536\" y=\"-270.806\">True</text>\n",
       "</g>\n",
       "<!-- 8 -->\n",
       "<g class=\"node\" id=\"node9\"><title>8</title>\n",
       "<polygon fill=\"none\" points=\"842.55,-250 652.397,-250 652.397,-186 842.55,-186 842.55,-250\" stroke=\"black\"/>\n",
       "<text font-family=\"Times,serif\" font-size=\"14.00\" text-anchor=\"middle\" x=\"747.474\" y=\"-234.8\">dropoff_longitude &lt;= -73.9564</text>\n",
       "<text font-family=\"Times,serif\" font-size=\"14.00\" text-anchor=\"middle\" x=\"747.474\" y=\"-220.8\">mse = 344713800.451</text>\n",
       "<text font-family=\"Times,serif\" font-size=\"14.00\" text-anchor=\"middle\" x=\"747.474\" y=\"-206.8\">samples = 48560</text>\n",
       "<text font-family=\"Times,serif\" font-size=\"14.00\" text-anchor=\"middle\" x=\"747.474\" y=\"-192.8\">value = 2314.9281</text>\n",
       "</g>\n",
       "<!-- 0&#45;&gt;8 -->\n",
       "<g class=\"edge\" id=\"edge8\"><title>0-&gt;8</title>\n",
       "<path d=\"M664.759,-285.992C676.345,-276.608 689.194,-266.202 701.242,-256.444\" fill=\"none\" stroke=\"black\"/>\n",
       "<polygon fill=\"black\" points=\"703.454,-259.156 709.022,-250.142 699.048,-253.716 703.454,-259.156\" stroke=\"black\"/>\n",
       "<text font-family=\"Times,serif\" font-size=\"14.00\" text-anchor=\"middle\" x=\"706.411\" y=\"-270.806\">False</text>\n",
       "</g>\n",
       "<!-- 2 -->\n",
       "<g class=\"node\" id=\"node3\"><title>2</title>\n",
       "<polygon fill=\"none\" points=\"316.991,-150 141.956,-150 141.956,-86 316.991,-86 316.991,-150\" stroke=\"black\"/>\n",
       "<text font-family=\"Times,serif\" font-size=\"14.00\" text-anchor=\"middle\" x=\"229.474\" y=\"-134.8\">dropoff_latitude &lt;= 40.7015</text>\n",
       "<text font-family=\"Times,serif\" font-size=\"14.00\" text-anchor=\"middle\" x=\"229.474\" y=\"-120.8\">mse = 19768679.9573</text>\n",
       "<text font-family=\"Times,serif\" font-size=\"14.00\" text-anchor=\"middle\" x=\"229.474\" y=\"-106.8\">samples = 896955</text>\n",
       "<text font-family=\"Times,serif\" font-size=\"14.00\" text-anchor=\"middle\" x=\"229.474\" y=\"-92.8\">value = 849.4803</text>\n",
       "</g>\n",
       "<!-- 1&#45;&gt;2 -->\n",
       "<g class=\"edge\" id=\"edge2\"><title>1-&gt;2</title>\n",
       "<path d=\"M418.146,-185.992C389.074,-175.67 356.519,-164.11 326.743,-153.538\" fill=\"none\" stroke=\"black\"/>\n",
       "<polygon fill=\"black\" points=\"327.776,-150.19 317.181,-150.142 325.433,-156.787 327.776,-150.19\" stroke=\"black\"/>\n",
       "</g>\n",
       "<!-- 5 -->\n",
       "<g class=\"node\" id=\"node6\"><title>5</title>\n",
       "<polygon fill=\"none\" points=\"600.55,-150 410.397,-150 410.397,-86 600.55,-86 600.55,-150\" stroke=\"black\"/>\n",
       "<text font-family=\"Times,serif\" font-size=\"14.00\" text-anchor=\"middle\" x=\"505.474\" y=\"-134.8\">dropoff_longitude &lt;= -73.8186</text>\n",
       "<text font-family=\"Times,serif\" font-size=\"14.00\" text-anchor=\"middle\" x=\"505.474\" y=\"-120.8\">mse = 15093601.817</text>\n",
       "<text font-family=\"Times,serif\" font-size=\"14.00\" text-anchor=\"middle\" x=\"505.474\" y=\"-106.8\">samples = 31776</text>\n",
       "<text font-family=\"Times,serif\" font-size=\"14.00\" text-anchor=\"middle\" x=\"505.474\" y=\"-92.8\">value = 2086.7304</text>\n",
       "</g>\n",
       "<!-- 1&#45;&gt;5 -->\n",
       "<g class=\"edge\" id=\"edge5\"><title>1-&gt;5</title>\n",
       "<path d=\"M505.474,-185.992C505.474,-177.859 505.474,-168.959 505.474,-160.378\" fill=\"none\" stroke=\"black\"/>\n",
       "<polygon fill=\"black\" points=\"508.974,-160.142 505.474,-150.142 501.974,-160.142 508.974,-160.142\" stroke=\"black\"/>\n",
       "</g>\n",
       "<!-- 3 -->\n",
       "<g class=\"node\" id=\"node4\"><title>3</title>\n",
       "<polygon fill=\"none\" points=\"140.921,-50 0.0263573,-50 0.0263573,-0 140.921,-0 140.921,-50\" stroke=\"black\"/>\n",
       "<text font-family=\"Times,serif\" font-size=\"14.00\" text-anchor=\"middle\" x=\"70.4736\" y=\"-34.8\">mse = 10350769.8174</text>\n",
       "<text font-family=\"Times,serif\" font-size=\"14.00\" text-anchor=\"middle\" x=\"70.4736\" y=\"-20.8\">samples = 32598</text>\n",
       "<text font-family=\"Times,serif\" font-size=\"14.00\" text-anchor=\"middle\" x=\"70.4736\" y=\"-6.8\">value = 1472.6585</text>\n",
       "</g>\n",
       "<!-- 2&#45;&gt;3 -->\n",
       "<g class=\"edge\" id=\"edge3\"><title>2-&gt;3</title>\n",
       "<path d=\"M175.2,-85.9375C157.733,-75.9407 138.453,-64.9066 121.248,-55.0595\" fill=\"none\" stroke=\"black\"/>\n",
       "<polygon fill=\"black\" points=\"122.878,-51.9597 112.46,-50.0301 119.401,-58.0351 122.878,-51.9597\" stroke=\"black\"/>\n",
       "</g>\n",
       "<!-- 4 -->\n",
       "<g class=\"node\" id=\"node5\"><title>4</title>\n",
       "<polygon fill=\"none\" points=\"299.921,-50 159.026,-50 159.026,-0 299.921,-0 299.921,-50\" stroke=\"black\"/>\n",
       "<text font-family=\"Times,serif\" font-size=\"14.00\" text-anchor=\"middle\" x=\"229.474\" y=\"-34.8\">mse = 20108664.6325</text>\n",
       "<text font-family=\"Times,serif\" font-size=\"14.00\" text-anchor=\"middle\" x=\"229.474\" y=\"-20.8\">samples = 864357</text>\n",
       "<text font-family=\"Times,serif\" font-size=\"14.00\" text-anchor=\"middle\" x=\"229.474\" y=\"-6.8\">value = 825.9781</text>\n",
       "</g>\n",
       "<!-- 2&#45;&gt;4 -->\n",
       "<g class=\"edge\" id=\"edge4\"><title>2-&gt;4</title>\n",
       "<path d=\"M229.474,-85.9375C229.474,-77.6833 229.474,-68.7219 229.474,-60.3053\" fill=\"none\" stroke=\"black\"/>\n",
       "<polygon fill=\"black\" points=\"232.974,-60.03 229.474,-50.0301 225.974,-60.0301 232.974,-60.03\" stroke=\"black\"/>\n",
       "</g>\n",
       "<!-- 6 -->\n",
       "<g class=\"node\" id=\"node7\"><title>6</title>\n",
       "<polygon fill=\"none\" points=\"458.909,-50 318.038,-50 318.038,-0 458.909,-0 458.909,-50\" stroke=\"black\"/>\n",
       "<text font-family=\"Times,serif\" font-size=\"14.00\" text-anchor=\"middle\" x=\"388.474\" y=\"-34.8\">mse = 13114899.8475</text>\n",
       "<text font-family=\"Times,serif\" font-size=\"14.00\" text-anchor=\"middle\" x=\"388.474\" y=\"-20.8\">samples = 23161</text>\n",
       "<text font-family=\"Times,serif\" font-size=\"14.00\" text-anchor=\"middle\" x=\"388.474\" y=\"-6.8\">value = 1769.1955</text>\n",
       "</g>\n",
       "<!-- 5&#45;&gt;6 -->\n",
       "<g class=\"edge\" id=\"edge6\"><title>5-&gt;6</title>\n",
       "<path d=\"M465.536,-85.9375C453.273,-76.3993 439.795,-65.9167 427.587,-56.4219\" fill=\"none\" stroke=\"black\"/>\n",
       "<polygon fill=\"black\" points=\"429.412,-53.4068 419.369,-50.0301 425.114,-58.9323 429.412,-53.4068\" stroke=\"black\"/>\n",
       "</g>\n",
       "<!-- 7 -->\n",
       "<g class=\"node\" id=\"node8\"><title>7</title>\n",
       "<polygon fill=\"none\" points=\"617.921,-50 477.026,-50 477.026,-0 617.921,-0 617.921,-50\" stroke=\"black\"/>\n",
       "<text font-family=\"Times,serif\" font-size=\"14.00\" text-anchor=\"middle\" x=\"547.474\" y=\"-34.8\">mse = 19413407.1475</text>\n",
       "<text font-family=\"Times,serif\" font-size=\"14.00\" text-anchor=\"middle\" x=\"547.474\" y=\"-20.8\">samples = 8615</text>\n",
       "<text font-family=\"Times,serif\" font-size=\"14.00\" text-anchor=\"middle\" x=\"547.474\" y=\"-6.8\">value = 2940.4074</text>\n",
       "</g>\n",
       "<!-- 5&#45;&gt;7 -->\n",
       "<g class=\"edge\" id=\"edge7\"><title>5-&gt;7</title>\n",
       "<path d=\"M519.81,-85.9375C523.789,-77.3164 528.124,-67.9239 532.157,-59.1865\" fill=\"none\" stroke=\"black\"/>\n",
       "<polygon fill=\"black\" points=\"535.37,-60.5764 536.383,-50.0301 529.014,-57.643 535.37,-60.5764\" stroke=\"black\"/>\n",
       "</g>\n",
       "<!-- 9 -->\n",
       "<g class=\"node\" id=\"node10\"><title>9</title>\n",
       "<polygon fill=\"none\" points=\"842.55,-150 652.397,-150 652.397,-86 842.55,-86 842.55,-150\" stroke=\"black\"/>\n",
       "<text font-family=\"Times,serif\" font-size=\"14.00\" text-anchor=\"middle\" x=\"747.474\" y=\"-134.8\">dropoff_longitude &lt;= -73.9568</text>\n",
       "<text font-family=\"Times,serif\" font-size=\"14.00\" text-anchor=\"middle\" x=\"747.474\" y=\"-120.8\">mse = 528492206.41</text>\n",
       "<text font-family=\"Times,serif\" font-size=\"14.00\" text-anchor=\"middle\" x=\"747.474\" y=\"-106.8\">samples = 31399</text>\n",
       "<text font-family=\"Times,serif\" font-size=\"14.00\" text-anchor=\"middle\" x=\"747.474\" y=\"-92.8\">value = 2750.4604</text>\n",
       "</g>\n",
       "<!-- 8&#45;&gt;9 -->\n",
       "<g class=\"edge\" id=\"edge9\"><title>8-&gt;9</title>\n",
       "<path d=\"M747.474,-185.992C747.474,-177.859 747.474,-168.959 747.474,-160.378\" fill=\"none\" stroke=\"black\"/>\n",
       "<polygon fill=\"black\" points=\"750.974,-160.142 747.474,-150.142 743.974,-160.142 750.974,-160.142\" stroke=\"black\"/>\n",
       "</g>\n",
       "<!-- 12 -->\n",
       "<g class=\"node\" id=\"node13\"><title>12</title>\n",
       "<polygon fill=\"none\" points=\"1112.05,-150 928.897,-150 928.897,-86 1112.05,-86 1112.05,-150\" stroke=\"black\"/>\n",
       "<text font-family=\"Times,serif\" font-size=\"14.00\" text-anchor=\"middle\" x=\"1020.47\" y=\"-134.8\">dropoff_longitude &lt;= -73.889</text>\n",
       "<text font-family=\"Times,serif\" font-size=\"14.00\" text-anchor=\"middle\" x=\"1020.47\" y=\"-120.8\">mse = 7477522.3009</text>\n",
       "<text font-family=\"Times,serif\" font-size=\"14.00\" text-anchor=\"middle\" x=\"1020.47\" y=\"-106.8\">samples = 17161</text>\n",
       "<text font-family=\"Times,serif\" font-size=\"14.00\" text-anchor=\"middle\" x=\"1020.47\" y=\"-92.8\">value = 1518.0468</text>\n",
       "</g>\n",
       "<!-- 8&#45;&gt;12 -->\n",
       "<g class=\"edge\" id=\"edge12\"><title>8-&gt;12</title>\n",
       "<path d=\"M833.853,-185.992C862.608,-175.67 894.809,-164.11 924.262,-153.538\" fill=\"none\" stroke=\"black\"/>\n",
       "<polygon fill=\"black\" points=\"925.49,-156.815 933.72,-150.142 923.125,-150.227 925.49,-156.815\" stroke=\"black\"/>\n",
       "</g>\n",
       "<!-- 10 -->\n",
       "<g class=\"node\" id=\"node11\"><title>10</title>\n",
       "<polygon fill=\"none\" points=\"776.909,-50 636.038,-50 636.038,-0 776.909,-0 776.909,-50\" stroke=\"black\"/>\n",
       "<text font-family=\"Times,serif\" font-size=\"14.00\" text-anchor=\"middle\" x=\"706.474\" y=\"-34.8\">mse = 411599215.794</text>\n",
       "<text font-family=\"Times,serif\" font-size=\"14.00\" text-anchor=\"middle\" x=\"706.474\" y=\"-20.8\">samples = 31188</text>\n",
       "<text font-family=\"Times,serif\" font-size=\"14.00\" text-anchor=\"middle\" x=\"706.474\" y=\"-6.8\">value = 2691.0977</text>\n",
       "</g>\n",
       "<!-- 9&#45;&gt;10 -->\n",
       "<g class=\"edge\" id=\"edge10\"><title>9-&gt;10</title>\n",
       "<path d=\"M733.478,-85.9375C729.594,-77.3164 725.362,-67.9239 721.426,-59.1865\" fill=\"none\" stroke=\"black\"/>\n",
       "<polygon fill=\"black\" points=\"724.599,-57.7097 717.3,-50.0301 718.217,-60.5852 724.599,-57.7097\" stroke=\"black\"/>\n",
       "</g>\n",
       "<!-- 11 -->\n",
       "<g class=\"node\" id=\"node12\"><title>11</title>\n",
       "<polygon fill=\"none\" points=\"935.921,-50 795.026,-50 795.026,-0 935.921,-0 935.921,-50\" stroke=\"black\"/>\n",
       "<text font-family=\"Times,serif\" font-size=\"14.00\" text-anchor=\"middle\" x=\"865.474\" y=\"-34.8\">mse = 17728983586.1</text>\n",
       "<text font-family=\"Times,serif\" font-size=\"14.00\" text-anchor=\"middle\" x=\"865.474\" y=\"-20.8\">samples = 211</text>\n",
       "<text font-family=\"Times,serif\" font-size=\"14.00\" text-anchor=\"middle\" x=\"865.474\" y=\"-6.8\">value = 11524.8863</text>\n",
       "</g>\n",
       "<!-- 9&#45;&gt;11 -->\n",
       "<g class=\"edge\" id=\"edge11\"><title>9-&gt;11</title>\n",
       "<path d=\"M787.753,-85.9375C800.24,-76.3076 813.975,-65.7151 826.38,-56.1483\" fill=\"none\" stroke=\"black\"/>\n",
       "<polygon fill=\"black\" points=\"828.532,-58.9085 834.314,-50.0301 824.258,-53.3654 828.532,-58.9085\" stroke=\"black\"/>\n",
       "</g>\n",
       "<!-- 13 -->\n",
       "<g class=\"node\" id=\"node14\"><title>13</title>\n",
       "<polygon fill=\"none\" points=\"1087.41,-50 953.538,-50 953.538,-0 1087.41,-0 1087.41,-50\" stroke=\"black\"/>\n",
       "<text font-family=\"Times,serif\" font-size=\"14.00\" text-anchor=\"middle\" x=\"1020.47\" y=\"-34.8\">mse = 8412395.1149</text>\n",
       "<text font-family=\"Times,serif\" font-size=\"14.00\" text-anchor=\"middle\" x=\"1020.47\" y=\"-20.8\">samples = 9111</text>\n",
       "<text font-family=\"Times,serif\" font-size=\"14.00\" text-anchor=\"middle\" x=\"1020.47\" y=\"-6.8\">value = 1825.2301</text>\n",
       "</g>\n",
       "<!-- 12&#45;&gt;13 -->\n",
       "<g class=\"edge\" id=\"edge13\"><title>12-&gt;13</title>\n",
       "<path d=\"M1020.47,-85.9375C1020.47,-77.6833 1020.47,-68.7219 1020.47,-60.3053\" fill=\"none\" stroke=\"black\"/>\n",
       "<polygon fill=\"black\" points=\"1023.97,-60.03 1020.47,-50.0301 1016.97,-60.0301 1023.97,-60.03\" stroke=\"black\"/>\n",
       "</g>\n",
       "<!-- 14 -->\n",
       "<g class=\"node\" id=\"node15\"><title>14</title>\n",
       "<polygon fill=\"none\" points=\"1239.42,-50 1105.53,-50 1105.53,-0 1239.42,-0 1239.42,-50\" stroke=\"black\"/>\n",
       "<text font-family=\"Times,serif\" font-size=\"14.00\" text-anchor=\"middle\" x=\"1172.47\" y=\"-34.8\">mse = 6191758.8603</text>\n",
       "<text font-family=\"Times,serif\" font-size=\"14.00\" text-anchor=\"middle\" x=\"1172.47\" y=\"-20.8\">samples = 8050</text>\n",
       "<text font-family=\"Times,serif\" font-size=\"14.00\" text-anchor=\"middle\" x=\"1172.47\" y=\"-6.8\">value = 1170.3764</text>\n",
       "</g>\n",
       "<!-- 12&#45;&gt;14 -->\n",
       "<g class=\"edge\" id=\"edge14\"><title>12-&gt;14</title>\n",
       "<path d=\"M1072.36,-85.9375C1088.9,-76.0324 1107.15,-65.109 1123.48,-55.3308\" fill=\"none\" stroke=\"black\"/>\n",
       "<polygon fill=\"black\" points=\"1125.55,-58.1697 1132.34,-50.0301 1121.96,-52.1638 1125.55,-58.1697\" stroke=\"black\"/>\n",
       "</g>\n",
       "</g>\n",
       "</svg>"
      ],
      "text/plain": [
       "<IPython.core.display.SVG object>"
      ]
     },
     "execution_count": 49,
     "metadata": {},
     "output_type": "execute_result"
    }
   ],
   "source": [
    "from graphviz import Source\n",
    "from sklearn import tree\n",
    "from IPython.display import SVG\n",
    "graph = Source( tree.export_graphviz(model, out_file=None, feature_names=X_train.columns))\n",
    "SVG(graph.pipe(format='svg'))"
   ]
  },
  {
   "cell_type": "markdown",
   "metadata": {},
   "source": [
    "## Evaluation measures for the Train Data"
   ]
  },
  {
   "cell_type": "code",
   "execution_count": 50,
   "metadata": {
    "collapsed": false
   },
   "outputs": [
    {
     "name": "stdout",
     "output_type": "stream",
     "text": [
      "Mean absolute error: 547.270709\n",
      "Mean squared error: 35704555.754394\n"
     ]
    }
   ],
   "source": [
    "MAE = mean_absolute_error(Y_train,pred_tr)\n",
    "MSE = mean_squared_error(Y_train,pred_tr)\n",
    "print (\"Mean absolute error: %f\"%MAE)\n",
    "print (\"Mean squared error: %f\"%MSE)"
   ]
  },
  {
   "cell_type": "markdown",
   "metadata": {},
   "source": [
    "## Evaluation measures for the Test Data"
   ]
  },
  {
   "cell_type": "code",
   "execution_count": 51,
   "metadata": {
    "collapsed": false
   },
   "outputs": [
    {
     "name": "stdout",
     "output_type": "stream",
     "text": [
      "Mean absolute error: 538.588073\n",
      "Mean squared error: 10083626.839027\n"
     ]
    }
   ],
   "source": [
    "MAE = mean_absolute_error(Y_test,pred_te)\n",
    "MSE = mean_squared_error(Y_test,pred_te)\n",
    "print (\"Mean absolute error: %f\"%MAE)\n",
    "print (\"Mean squared error: %f\"%MSE)"
   ]
  },
  {
   "cell_type": "markdown",
   "metadata": {},
   "source": [
    "## Depth_4"
   ]
  },
  {
   "cell_type": "code",
   "execution_count": 52,
   "metadata": {
    "collapsed": true
   },
   "outputs": [],
   "source": [
    "model = DecisionTreeRegressor(max_depth=4)\n",
    "model.fit(X_train,Y_train)\n",
    "pred_tr = model.predict(X_train)\n",
    "pred_te = model.predict(X_test)"
   ]
  },
  {
   "cell_type": "markdown",
   "metadata": {},
   "source": [
    "## Evaluation measures for the Train Data"
   ]
  },
  {
   "cell_type": "code",
   "execution_count": 53,
   "metadata": {
    "collapsed": false
   },
   "outputs": [
    {
     "name": "stdout",
     "output_type": "stream",
     "text": [
      "Mean absolute error: 544.642824\n",
      "Mean squared error: 34723694.767901\n"
     ]
    }
   ],
   "source": [
    "MAE = mean_absolute_error(Y_train,pred_tr)\n",
    "MSE = mean_squared_error(Y_train,pred_tr)\n",
    "print (\"Mean absolute error: %f\"%MAE)\n",
    "print (\"Mean squared error: %f\"%MSE)"
   ]
  },
  {
   "cell_type": "markdown",
   "metadata": {},
   "source": [
    "## Evaluation measures for the Test Data"
   ]
  },
  {
   "cell_type": "code",
   "execution_count": 54,
   "metadata": {
    "collapsed": false
   },
   "outputs": [
    {
     "name": "stdout",
     "output_type": "stream",
     "text": [
      "Mean absolute error: 535.280837\n",
      "Mean squared error: 10042375.586366\n"
     ]
    }
   ],
   "source": [
    "MAE = mean_absolute_error(Y_test,pred_te)\n",
    "MSE = mean_squared_error(Y_test,pred_te)\n",
    "print (\"Mean absolute error: %f\"%MAE)\n",
    "print (\"Mean squared error: %f\"%MSE)"
   ]
  },
  {
   "cell_type": "markdown",
   "metadata": {},
   "source": [
    "## Depth_5"
   ]
  },
  {
   "cell_type": "code",
   "execution_count": 55,
   "metadata": {
    "collapsed": true
   },
   "outputs": [],
   "source": [
    "model = DecisionTreeRegressor(max_depth=5)\n",
    "model.fit(X_train,Y_train)\n",
    "pred_tr = model.predict(X_train)\n",
    "pred_te = model.predict(X_test)"
   ]
  },
  {
   "cell_type": "markdown",
   "metadata": {},
   "source": [
    "## Evaluation measures for the Train Data"
   ]
  },
  {
   "cell_type": "code",
   "execution_count": 56,
   "metadata": {
    "collapsed": false
   },
   "outputs": [
    {
     "name": "stdout",
     "output_type": "stream",
     "text": [
      "Mean absolute error: 540.481090\n",
      "Mean squared error: 31794767.930637\n"
     ]
    }
   ],
   "source": [
    "MAE = mean_absolute_error(Y_train,pred_tr)\n",
    "MSE = mean_squared_error(Y_train,pred_tr)\n",
    "print (\"Mean absolute error: %f\"%MAE)\n",
    "print (\"Mean squared error: %f\"%MSE)"
   ]
  },
  {
   "cell_type": "markdown",
   "metadata": {},
   "source": [
    "## Evaluation measures for the Test Data"
   ]
  },
  {
   "cell_type": "code",
   "execution_count": 57,
   "metadata": {
    "collapsed": false
   },
   "outputs": [
    {
     "name": "stdout",
     "output_type": "stream",
     "text": [
      "Mean absolute error: 534.154785\n",
      "Mean squared error: 10053078.444801\n"
     ]
    }
   ],
   "source": [
    "MAE = mean_absolute_error(Y_test,pred_te)\n",
    "MSE = mean_squared_error(Y_test,pred_te)\n",
    "print (\"Mean absolute error: %f\"%MAE)\n",
    "print (\"Mean squared error: %f\"%MSE)"
   ]
  },
  {
   "cell_type": "markdown",
   "metadata": {},
   "source": [
    "## Depth_6"
   ]
  },
  {
   "cell_type": "code",
   "execution_count": 58,
   "metadata": {
    "collapsed": true
   },
   "outputs": [],
   "source": [
    "model = DecisionTreeRegressor(max_depth=6)\n",
    "model.fit(X_train,Y_train)\n",
    "pred_tr = model.predict(X_train)\n",
    "pred_te = model.predict(X_test)"
   ]
  },
  {
   "cell_type": "markdown",
   "metadata": {},
   "source": [
    "## Evaluation measures for the Train Data"
   ]
  },
  {
   "cell_type": "code",
   "execution_count": 59,
   "metadata": {
    "collapsed": false
   },
   "outputs": [
    {
     "name": "stdout",
     "output_type": "stream",
     "text": [
      "Mean absolute error: 526.305287\n",
      "Mean squared error: 26874225.650783\n"
     ]
    }
   ],
   "source": [
    "MAE = mean_absolute_error(Y_train,pred_tr)\n",
    "MSE = mean_squared_error(Y_train,pred_tr)\n",
    "print (\"Mean absolute error: %f\"%MAE)\n",
    "print (\"Mean squared error: %f\"%MSE)"
   ]
  },
  {
   "cell_type": "markdown",
   "metadata": {},
   "source": [
    "## Evaluation measures for the Test Data"
   ]
  },
  {
   "cell_type": "code",
   "execution_count": 60,
   "metadata": {
    "collapsed": false
   },
   "outputs": [
    {
     "name": "stdout",
     "output_type": "stream",
     "text": [
      "Mean absolute error: 532.151507\n",
      "Mean squared error: 28121228.636943\n"
     ]
    }
   ],
   "source": [
    "MAE = mean_absolute_error(Y_test,pred_te)\n",
    "MSE = mean_squared_error(Y_test,pred_te)\n",
    "print (\"Mean absolute error: %f\"%MAE)\n",
    "print (\"Mean squared error: %f\"%MSE)"
   ]
  },
  {
   "cell_type": "markdown",
   "metadata": {
    "collapsed": true
   },
   "source": [
    "# Observation:\n",
    "\n",
    "## In all three trees, the main features are pickup_longitude, drop_longitude and passenger_count, which makes sense as these features affect the duration of the trip. The distance between pickup and dropoff location affect the duration of the trip.\n",
    "## As the decision trees depth increases, mean_absolute_error, mean_squared_error on both training and testing data decreases. "
   ]
  }
 ],
 "metadata": {
  "anaconda-cloud": {},
  "kernelspec": {
   "display_name": "Python [Root]",
   "language": "python",
   "name": "Python [Root]"
  },
  "language_info": {
   "codemirror_mode": {
    "name": "ipython",
    "version": 3
   },
   "file_extension": ".py",
   "mimetype": "text/x-python",
   "name": "python",
   "nbconvert_exporter": "python",
   "pygments_lexer": "ipython3",
   "version": "3.5.2"
  }
 },
 "nbformat": 4,
 "nbformat_minor": 1
}
